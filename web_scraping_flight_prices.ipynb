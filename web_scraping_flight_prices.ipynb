{
 "cells": [
  {
   "cell_type": "code",
   "execution_count": 1,
   "id": "8bc46405",
   "metadata": {},
   "outputs": [],
   "source": [
    "import warnings\n",
    "warnings.simplefilter(\"ignore\")\n",
    "warnings.filterwarnings(\"ignore\")\n",
    "\n",
    "import time, sys\n",
    "import datetime\n",
    "import tqdm.notebook as tqdm\n",
    "import pandas as pd\n",
    "import numpy as np\n",
    "\n",
    "import requests\n",
    "import selenium\n",
    "from bs4 import BeautifulSoup\n",
    "from selenium import webdriver\n",
    "from urllib.parse import urljoin\n",
    "from selenium.webdriver.common.by import By\n",
    "from selenium.webdriver.common.keys import Keys\n",
    "from selenium.webdriver.support.ui import WebDriverWait\n",
    "from selenium.webdriver.support import expected_conditions as ec\n",
    "from selenium.common.exceptions import TimeoutException, StaleElementReferenceException\n",
    "from selenium.common.exceptions import NoSuchElementException, ElementClickInterceptedException"
   ]
  },
  {
   "cell_type": "code",
   "execution_count": 5,
   "id": "03b3c4ea",
   "metadata": {},
   "outputs": [],
   "source": [
    "from selenium.webdriver.chrome.service import Service\n",
    "from webdriver_manager.chrome import ChromeDriverManager"
   ]
  },
  {
   "cell_type": "code",
   "execution_count": 6,
   "id": "da59b240",
   "metadata": {},
   "outputs": [
    {
     "name": "stderr",
     "output_type": "stream",
     "text": [
      "\n",
      "\n",
      "====== WebDriver manager ======\n",
      "Current google-chrome version is 98.0.4758\n",
      "Get LATEST chromedriver version for 98.0.4758 google-chrome\n",
      "There is no [mac64] chromedriver for browser  in cache\n",
      "Trying to download new driver from https://chromedriver.storage.googleapis.com/98.0.4758.102/chromedriver_mac64.zip\n",
      "Driver has been saved in cache [/Users/apple/.wdm/drivers/chromedriver/mac64/98.0.4758.102]\n"
     ]
    }
   ],
   "source": [
    "#lets first connect to web driver\n",
    "#driver=webdriver.Chrome('/Users/apple/Documents/drivers/chromedriver')\n",
    "s=Service(ChromeDriverManager().install())\n",
    "driver = webdriver.Chrome(service=s)"
   ]
  },
  {
   "cell_type": "code",
   "execution_count": 18,
   "id": "38c68618",
   "metadata": {},
   "outputs": [],
   "source": [
    "driver = webdriver.Chrome(service=s)"
   ]
  },
  {
   "cell_type": "code",
   "execution_count": 7,
   "id": "3b045f42",
   "metadata": {},
   "outputs": [],
   "source": [
    "\n",
    "url = \"https://www.expedia.co.in/Flights\"\n",
    "\n",
    "# Setting the ticket types paths\n",
    "return_ticket = \"//label[@id='flight-type-roundtrip-label-hp-flight']\"\n",
    "one_way_ticket = \"//label[@id='flight-type-one-way-label-hp-flight']\"\n",
    "multi_ticket = \"//label[@id='flight-type-multi-dest-label-hp-flight']\""
   ]
  },
  {
   "cell_type": "code",
   "execution_count": 8,
   "id": "0a3e0f86",
   "metadata": {},
   "outputs": [],
   "source": [
    "def ticket_chooser(ticket):\n",
    "\n",
    "    try:\n",
    "        ticket_type = browser.find_element_by_xpath(ticket)\n",
    "        ticket_type.click()\n",
    "    except Exception as e:\n",
    "        pass\n"
   ]
  },
  {
   "cell_type": "code",
   "execution_count": 9,
   "id": "ef5d8599",
   "metadata": {},
   "outputs": [],
   "source": [
    "# For departure place name\n",
    "def dep_place_chooser(dep_place):\n",
    "    fly_from = browser.find_element_by_xpath(\"//input[@id='flight-origin-hp-flight']\")\n",
    "    time.sleep(1)\n",
    "    fly_from.clear()\n",
    "    time.sleep(1.5)\n",
    "    fly_from.send_keys('  ' + dep_place)\n",
    "    time.sleep(1.5)\n",
    "    first_item = browser.find_element_by_xpath(\"//a[@id='aria-option-0']\")\n",
    "    time.sleep(1.5)\n",
    "    first_item.click()"
   ]
  },
  {
   "cell_type": "code",
   "execution_count": 10,
   "id": "ac58a996",
   "metadata": {},
   "outputs": [],
   "source": [
    "# For arrival place name\n",
    "def arr_place_chooser(arr_place):\n",
    "    fly_to = browser.find_element_by_xpath(\"//input[@id='flight-destination-hp-flight']\")\n",
    "    time.sleep(1)\n",
    "    fly_to.clear()\n",
    "    time.sleep(1.5)\n",
    "    fly_to.send_keys('  ' + arr_place)\n",
    "    time.sleep(1.5)\n",
    "    first_item = browser.find_element_by_xpath(\"//a[@id='aria-option-0']\")\n",
    "    time.sleep(1.5)\n",
    "    first_item.click()"
   ]
  },
  {
   "cell_type": "code",
   "execution_count": 11,
   "id": "2c192dcc",
   "metadata": {},
   "outputs": [],
   "source": [
    "# Departure date\n",
    "def dep_date_chooser(month, day, year):\n",
    "    dep_date_button = browser.find_element_by_xpath(\"//input[@id='flight-departing-hp-flight']\")\n",
    "    dep_date_button.clear()\n",
    "    dep_date_button.send_keys(month + '/' + day + '/' + year)\n"
   ]
  },
  {
   "cell_type": "code",
   "execution_count": 12,
   "id": "73b33677",
   "metadata": {},
   "outputs": [],
   "source": [
    "# Return date\n",
    "def return_date_chooser(month, day, year):\n",
    "    return_date_button = browser.find_element_by_xpath(\"//input[@id='flight-returning-hp-flight']\")\n",
    "\n",
    "    for i in range(11):\n",
    "        return_date_button.send_keys(Keys.BACKSPACE)\n",
    "    return_date_button.send_keys(month + '/' + day + '/' + year)"
   ]
  },
  {
   "cell_type": "code",
   "execution_count": 13,
   "id": "94dba474",
   "metadata": {},
   "outputs": [],
   "source": [
    "def search():\n",
    "    search = browser.find_element_by_xpath(\"//button[@class='btn-primary btn-action gcw-submit']\")\n",
    "    search.click()\n",
    "    time.sleep(15)\n",
    "    print('Results ready!')"
   ]
  },
  {
   "cell_type": "code",
   "execution_count": 17,
   "id": "dac6fba3",
   "metadata": {},
   "outputs": [
    {
     "ename": "SyntaxError",
     "evalue": "EOL while scanning string literal (<ipython-input-17-cf31a1772dbe>, line 26)",
     "output_type": "error",
     "traceback": [
      "\u001b[0;36m  File \u001b[0;32m\"<ipython-input-17-cf31a1772dbe>\"\u001b[0;36m, line \u001b[0;32m26\u001b[0m\n\u001b[0;31m    price_list =[value.text.split('/div>)[1] for value in prices]\u001b[0m\n\u001b[0m                                                                 ^\u001b[0m\n\u001b[0;31mSyntaxError\u001b[0m\u001b[0;31m:\u001b[0m EOL while scanning string literal\n"
     ]
    }
   ],
   "source": [
    "df = pd.DataFrame()\n",
    "def compile_data():\n",
    "    global df\n",
    "    global dep_times_list\n",
    "    global arr_times_list\n",
    "    global airlines_list\n",
    "    global price_list\n",
    "    global durations_list\n",
    "    global stops_list\n",
    "    global layovers_list\n",
    "\n",
    "    #departure times\n",
    "    dep_times = browser.find_elements_by_xpath(\"//span[@data-test-id='departure-time']\")\n",
    "    dep_times_list = [value.text for value in dep_times]\n",
    "\n",
    "    #arrival times\n",
    "    arr_times = browser.find_elements_by_xpath(\"//span[@data-test-id='arrival-time']\")\n",
    "    arr_times_list = [value.text for value in arr_times]\n",
    "\n",
    "    #airline name\n",
    "    airlines = browser.find_elements_by_xpath(\"//span[@data-test-id='airline-name']\")\n",
    "    airlines_list = [value.text for value in airlines]\n",
    "\n",
    "    #prices\n",
    "    prices = browser.find_elements_by_xpath(\"//span[@data-test-id='listing-price-dollars']\")\n",
    "    price_list =[value.text.split('/div>)[1] for value in prices]\n",
    "\n",
    "    #durations\n",
    "    durations = browser.find_elements_by_xpath(\"//span[@data-test-id='duration']\")\n",
    "    durations_list = [value.text for value in durations]\n",
    "\n",
    "    #stops\n",
    "    stops = browser.find_elements_by_xpath(\"//span[@class='number-stops']\")\n",
    "    stops_list = [value.text for value in stops]\n",
    "\n",
    "    #layovers\n",
    "    layovers = browser.find_elements_by_xpath(\"//span[@data-test-id='layover-airport-stops']\")\n",
    "    layovers_list = [value.text for value in layovers]\n",
    "\n",
    "    now = datetime.datetime.now()\n",
    "    current_date = (str(now.year) + '-' + str(now.month) + '-' + str(now.day))\n",
    "    current_time = (str(now.hour) + ':' + str(now.minute))\n",
    "    current_price = 'price' + '(' + current_date + '---' + current_time + ')'\n",
    "    for i in range(len(dep_times_list)):\n",
    "        try:\n",
    "            df.loc[i, 'departure_time'] = dep_times_list[i]\n",
    "        except Exception as e:\n",
    "            pass\n",
    "        try:\n",
    "            df.loc[i, 'arrival_time'] = arr_times_list[i]\n",
    "        except Exception as e:\n",
    "            pass\n",
    "        try:\n",
    "            df.loc[i, 'airline'] = airlines_list[i]\n",
    "        except Exception as e:\n",
    "            pass\n",
    "        try:\n",
    "            df.loc[i, 'duration'] = durations_list[i]\n",
    "        except Exception as e:\n",
    "            pass\n",
    "        try:\n",
    "            df.loc[i, 'stops'] = stops_list[i]\n",
    "        except Exception as e:\n",
    "            pass\n",
    "        try:\n",
    "            df.loc[i, 'layovers'] = layovers_list[i]\n",
    "        except Exception as e:\n",
    "            pass\n",
    "        try:\n",
    "            df.loc[i, str(current_price)] = price_list[i]\n",
    "        except Exception as e:\n",
    "            pass\n",
    "\n",
    "    print('Comma Separated Value File Created!')"
   ]
  },
  {
   "cell_type": "code",
   "execution_count": 19,
   "id": "d06625c0",
   "metadata": {},
   "outputs": [
    {
     "ename": "NoSuchWindowException",
     "evalue": "Message: no such window: window was already closed\n  (Session info: chrome=98.0.4758.109)\nStacktrace:\n0   chromedriver                        0x000000010a6ccee9 chromedriver + 5013225\n1   chromedriver                        0x000000010a6581d3 chromedriver + 4534739\n2   chromedriver                        0x000000010a22ea68 chromedriver + 170600\n3   chromedriver                        0x000000010a21e991 chromedriver + 104849\n4   chromedriver                        0x000000010a21fe42 chromedriver + 110146\n5   chromedriver                        0x000000010a218c12 chromedriver + 80914\n6   chromedriver                        0x000000010a22fed3 chromedriver + 175827\n7   chromedriver                        0x000000010a29275c chromedriver + 579420\n8   chromedriver                        0x000000010a2806d3 chromedriver + 505555\n9   chromedriver                        0x000000010a25676e chromedriver + 333678\n10  chromedriver                        0x000000010a257745 chromedriver + 337733\n11  chromedriver                        0x000000010a688efe chromedriver + 4734718\n12  chromedriver                        0x000000010a6a2a19 chromedriver + 4839961\n13  chromedriver                        0x000000010a6a81c8 chromedriver + 4862408\n14  chromedriver                        0x000000010a6a33aa chromedriver + 4842410\n15  chromedriver                        0x000000010a67da01 chromedriver + 4688385\n16  chromedriver                        0x000000010a6be538 chromedriver + 4953400\n17  chromedriver                        0x000000010a6be6c1 chromedriver + 4953793\n18  chromedriver                        0x000000010a6d4225 chromedriver + 5042725\n19  libsystem_pthread.dylib             0x00007fff68f99109 _pthread_start + 148\n20  libsystem_pthread.dylib             0x00007fff68f94b8b thread_start + 15\n",
     "output_type": "error",
     "traceback": [
      "\u001b[0;31m---------------------------------------------------------------------------\u001b[0m",
      "\u001b[0;31mNoSuchWindowException\u001b[0m                     Traceback (most recent call last)",
      "\u001b[0;32m<ipython-input-19-248687b77223>\u001b[0m in \u001b[0;36m<module>\u001b[0;34m\u001b[0m\n\u001b[1;32m      4\u001b[0m \u001b[0;34m\u001b[0m\u001b[0m\n\u001b[1;32m      5\u001b[0m     \u001b[0;31m# choose flights only\u001b[0m\u001b[0;34m\u001b[0m\u001b[0;34m\u001b[0m\u001b[0;34m\u001b[0m\u001b[0m\n\u001b[0;32m----> 6\u001b[0;31m     \u001b[0mflights_only\u001b[0m \u001b[0;34m=\u001b[0m \u001b[0mdriver\u001b[0m\u001b[0;34m.\u001b[0m\u001b[0mfind_element_by_xpath\u001b[0m\u001b[0;34m(\u001b[0m\u001b[0;34m\"//button[@id='tab-flight-tab-hp']\"\u001b[0m\u001b[0;34m)\u001b[0m\u001b[0;34m\u001b[0m\u001b[0;34m\u001b[0m\u001b[0m\n\u001b[0m\u001b[1;32m      7\u001b[0m     \u001b[0mflights_only\u001b[0m\u001b[0;34m.\u001b[0m\u001b[0mclick\u001b[0m\u001b[0;34m(\u001b[0m\u001b[0;34m)\u001b[0m\u001b[0;34m\u001b[0m\u001b[0;34m\u001b[0m\u001b[0m\n\u001b[1;32m      8\u001b[0m \u001b[0;34m\u001b[0m\u001b[0m\n",
      "\u001b[0;32m~/opt/anaconda3/lib/python3.8/site-packages/selenium/webdriver/remote/webdriver.py\u001b[0m in \u001b[0;36mfind_element_by_xpath\u001b[0;34m(self, xpath)\u001b[0m\n\u001b[1;32m    512\u001b[0m             \u001b[0mstacklevel\u001b[0m\u001b[0;34m=\u001b[0m\u001b[0;36m2\u001b[0m\u001b[0;34m,\u001b[0m\u001b[0;34m\u001b[0m\u001b[0;34m\u001b[0m\u001b[0m\n\u001b[1;32m    513\u001b[0m         )\n\u001b[0;32m--> 514\u001b[0;31m         \u001b[0;32mreturn\u001b[0m \u001b[0mself\u001b[0m\u001b[0;34m.\u001b[0m\u001b[0mfind_element\u001b[0m\u001b[0;34m(\u001b[0m\u001b[0mby\u001b[0m\u001b[0;34m=\u001b[0m\u001b[0mBy\u001b[0m\u001b[0;34m.\u001b[0m\u001b[0mXPATH\u001b[0m\u001b[0;34m,\u001b[0m \u001b[0mvalue\u001b[0m\u001b[0;34m=\u001b[0m\u001b[0mxpath\u001b[0m\u001b[0;34m)\u001b[0m\u001b[0;34m\u001b[0m\u001b[0;34m\u001b[0m\u001b[0m\n\u001b[0m\u001b[1;32m    515\u001b[0m \u001b[0;34m\u001b[0m\u001b[0m\n\u001b[1;32m    516\u001b[0m     \u001b[0;32mdef\u001b[0m \u001b[0mfind_elements_by_xpath\u001b[0m\u001b[0;34m(\u001b[0m\u001b[0mself\u001b[0m\u001b[0;34m,\u001b[0m \u001b[0mxpath\u001b[0m\u001b[0;34m)\u001b[0m \u001b[0;34m->\u001b[0m \u001b[0mWebElement\u001b[0m\u001b[0;34m:\u001b[0m\u001b[0;34m\u001b[0m\u001b[0;34m\u001b[0m\u001b[0m\n",
      "\u001b[0;32m~/opt/anaconda3/lib/python3.8/site-packages/selenium/webdriver/remote/webdriver.py\u001b[0m in \u001b[0;36mfind_element\u001b[0;34m(self, by, value)\u001b[0m\n\u001b[1;32m   1236\u001b[0m             \u001b[0mvalue\u001b[0m \u001b[0;34m=\u001b[0m \u001b[0;34m'[name=\"%s\"]'\u001b[0m \u001b[0;34m%\u001b[0m \u001b[0mvalue\u001b[0m\u001b[0;34m\u001b[0m\u001b[0;34m\u001b[0m\u001b[0m\n\u001b[1;32m   1237\u001b[0m \u001b[0;34m\u001b[0m\u001b[0m\n\u001b[0;32m-> 1238\u001b[0;31m         return self.execute(Command.FIND_ELEMENT, {\n\u001b[0m\u001b[1;32m   1239\u001b[0m             \u001b[0;34m'using'\u001b[0m\u001b[0;34m:\u001b[0m \u001b[0mby\u001b[0m\u001b[0;34m,\u001b[0m\u001b[0;34m\u001b[0m\u001b[0;34m\u001b[0m\u001b[0m\n\u001b[1;32m   1240\u001b[0m             'value': value})['value']\n",
      "\u001b[0;32m~/opt/anaconda3/lib/python3.8/site-packages/selenium/webdriver/remote/webdriver.py\u001b[0m in \u001b[0;36mexecute\u001b[0;34m(self, driver_command, params)\u001b[0m\n\u001b[1;32m    416\u001b[0m         \u001b[0mresponse\u001b[0m \u001b[0;34m=\u001b[0m \u001b[0mself\u001b[0m\u001b[0;34m.\u001b[0m\u001b[0mcommand_executor\u001b[0m\u001b[0;34m.\u001b[0m\u001b[0mexecute\u001b[0m\u001b[0;34m(\u001b[0m\u001b[0mdriver_command\u001b[0m\u001b[0;34m,\u001b[0m \u001b[0mparams\u001b[0m\u001b[0;34m)\u001b[0m\u001b[0;34m\u001b[0m\u001b[0;34m\u001b[0m\u001b[0m\n\u001b[1;32m    417\u001b[0m         \u001b[0;32mif\u001b[0m \u001b[0mresponse\u001b[0m\u001b[0;34m:\u001b[0m\u001b[0;34m\u001b[0m\u001b[0;34m\u001b[0m\u001b[0m\n\u001b[0;32m--> 418\u001b[0;31m             \u001b[0mself\u001b[0m\u001b[0;34m.\u001b[0m\u001b[0merror_handler\u001b[0m\u001b[0;34m.\u001b[0m\u001b[0mcheck_response\u001b[0m\u001b[0;34m(\u001b[0m\u001b[0mresponse\u001b[0m\u001b[0;34m)\u001b[0m\u001b[0;34m\u001b[0m\u001b[0;34m\u001b[0m\u001b[0m\n\u001b[0m\u001b[1;32m    419\u001b[0m             response['value'] = self._unwrap_value(\n\u001b[1;32m    420\u001b[0m                 response.get('value', None))\n",
      "\u001b[0;32m~/opt/anaconda3/lib/python3.8/site-packages/selenium/webdriver/remote/errorhandler.py\u001b[0m in \u001b[0;36mcheck_response\u001b[0;34m(self, response)\u001b[0m\n\u001b[1;32m    241\u001b[0m                 \u001b[0malert_text\u001b[0m \u001b[0;34m=\u001b[0m \u001b[0mvalue\u001b[0m\u001b[0;34m[\u001b[0m\u001b[0;34m'alert'\u001b[0m\u001b[0;34m]\u001b[0m\u001b[0;34m.\u001b[0m\u001b[0mget\u001b[0m\u001b[0;34m(\u001b[0m\u001b[0;34m'text'\u001b[0m\u001b[0;34m)\u001b[0m\u001b[0;34m\u001b[0m\u001b[0;34m\u001b[0m\u001b[0m\n\u001b[1;32m    242\u001b[0m             \u001b[0;32mraise\u001b[0m \u001b[0mexception_class\u001b[0m\u001b[0;34m(\u001b[0m\u001b[0mmessage\u001b[0m\u001b[0;34m,\u001b[0m \u001b[0mscreen\u001b[0m\u001b[0;34m,\u001b[0m \u001b[0mstacktrace\u001b[0m\u001b[0;34m,\u001b[0m \u001b[0malert_text\u001b[0m\u001b[0;34m)\u001b[0m  \u001b[0;31m# type: ignore[call-arg]  # mypy is not smart enough here\u001b[0m\u001b[0;34m\u001b[0m\u001b[0;34m\u001b[0m\u001b[0m\n\u001b[0;32m--> 243\u001b[0;31m         \u001b[0;32mraise\u001b[0m \u001b[0mexception_class\u001b[0m\u001b[0;34m(\u001b[0m\u001b[0mmessage\u001b[0m\u001b[0;34m,\u001b[0m \u001b[0mscreen\u001b[0m\u001b[0;34m,\u001b[0m \u001b[0mstacktrace\u001b[0m\u001b[0;34m)\u001b[0m\u001b[0;34m\u001b[0m\u001b[0;34m\u001b[0m\u001b[0m\n\u001b[0m\u001b[1;32m    244\u001b[0m \u001b[0;34m\u001b[0m\u001b[0m\n\u001b[1;32m    245\u001b[0m     \u001b[0;32mdef\u001b[0m \u001b[0m_value_or_default\u001b[0m\u001b[0;34m(\u001b[0m\u001b[0mself\u001b[0m\u001b[0;34m,\u001b[0m \u001b[0mobj\u001b[0m\u001b[0;34m:\u001b[0m \u001b[0mMapping\u001b[0m\u001b[0;34m[\u001b[0m\u001b[0m_KT\u001b[0m\u001b[0;34m,\u001b[0m \u001b[0m_VT\u001b[0m\u001b[0;34m]\u001b[0m\u001b[0;34m,\u001b[0m \u001b[0mkey\u001b[0m\u001b[0;34m:\u001b[0m \u001b[0m_KT\u001b[0m\u001b[0;34m,\u001b[0m \u001b[0mdefault\u001b[0m\u001b[0;34m:\u001b[0m \u001b[0m_VT\u001b[0m\u001b[0;34m)\u001b[0m \u001b[0;34m->\u001b[0m \u001b[0m_VT\u001b[0m\u001b[0;34m:\u001b[0m\u001b[0;34m\u001b[0m\u001b[0;34m\u001b[0m\u001b[0m\n",
      "\u001b[0;31mNoSuchWindowException\u001b[0m: Message: no such window: window was already closed\n  (Session info: chrome=98.0.4758.109)\nStacktrace:\n0   chromedriver                        0x000000010a6ccee9 chromedriver + 5013225\n1   chromedriver                        0x000000010a6581d3 chromedriver + 4534739\n2   chromedriver                        0x000000010a22ea68 chromedriver + 170600\n3   chromedriver                        0x000000010a21e991 chromedriver + 104849\n4   chromedriver                        0x000000010a21fe42 chromedriver + 110146\n5   chromedriver                        0x000000010a218c12 chromedriver + 80914\n6   chromedriver                        0x000000010a22fed3 chromedriver + 175827\n7   chromedriver                        0x000000010a29275c chromedriver + 579420\n8   chromedriver                        0x000000010a2806d3 chromedriver + 505555\n9   chromedriver                        0x000000010a25676e chromedriver + 333678\n10  chromedriver                        0x000000010a257745 chromedriver + 337733\n11  chromedriver                        0x000000010a688efe chromedriver + 4734718\n12  chromedriver                        0x000000010a6a2a19 chromedriver + 4839961\n13  chromedriver                        0x000000010a6a81c8 chromedriver + 4862408\n14  chromedriver                        0x000000010a6a33aa chromedriver + 4842410\n15  chromedriver                        0x000000010a67da01 chromedriver + 4688385\n16  chromedriver                        0x000000010a6be538 chromedriver + 4953400\n17  chromedriver                        0x000000010a6be6c1 chromedriver + 4953793\n18  chromedriver                        0x000000010a6d4225 chromedriver + 5042725\n19  libsystem_pthread.dylib             0x00007fff68f99109 _pthread_start + 148\n20  libsystem_pthread.dylib             0x00007fff68f94b8b thread_start + 15\n"
     ]
    }
   ],
   "source": [
    "for i in range(8):    \n",
    "    driver = webdriver.Chrome(service=s)\n",
    "    time.sleep(5)\n",
    "\n",
    "    # choose flights only\n",
    "    flights_only = driver.find_element_by_xpath(\"//button[@id='tab-flight-tab-hp']\")\n",
    "    flights_only.click()\n",
    "\n",
    "    ticket_chooser(return_ticket)\n",
    "\n",
    "    dep_place_chooser('BOM')\n",
    "\n",
    "    arr_place_chooser('BLR')\n",
    "\n",
    "    dep_date_chooser('04', '01', '2022')\n",
    "\n",
    "    return_date_chooser('05', '02', '2022')\n",
    "\n",
    "    search()\n",
    "\n",
    "    compile_data()\n",
    "\n",
    "    print('run {} completed!'.format(i))\n",
    "\n",
    "    df.to_csv('Flight_Price_Data.csv')\n",
    "\n",
    "    time.sleep(15)"
   ]
  },
  {
   "cell_type": "code",
   "execution_count": null,
   "id": "41bf8194",
   "metadata": {},
   "outputs": [],
   "source": []
  }
 ],
 "metadata": {
  "kernelspec": {
   "display_name": "Python 3",
   "language": "python",
   "name": "python3"
  },
  "language_info": {
   "codemirror_mode": {
    "name": "ipython",
    "version": 3
   },
   "file_extension": ".py",
   "mimetype": "text/x-python",
   "name": "python",
   "nbconvert_exporter": "python",
   "pygments_lexer": "ipython3",
   "version": "3.8.8"
  }
 },
 "nbformat": 4,
 "nbformat_minor": 5
}
